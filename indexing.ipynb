{
 "cells": [
  {
   "cell_type": "code",
   "execution_count": 1,
   "id": "5e48fe1b",
   "metadata": {},
   "outputs": [],
   "source": [
    "import numpy as np\n",
    "import pandas as pd"
   ]
  },
  {
   "cell_type": "code",
   "execution_count": 2,
   "id": "0fbab28e",
   "metadata": {},
   "outputs": [
    {
     "data": {
      "text/plain": [
       "DatetimeIndex(['2023-01-01', '2023-01-02', '2023-01-03', '2023-01-04',\n",
       "               '2023-01-05', '2023-01-06', '2023-01-07', '2023-01-08',\n",
       "               '2023-01-09', '2023-01-10'],\n",
       "              dtype='datetime64[ns]', freq='D')"
      ]
     },
     "execution_count": 2,
     "metadata": {},
     "output_type": "execute_result"
    }
   ],
   "source": [
    "dates = pd.date_range('1/1/2023', periods=10)\n",
    "dates"
   ]
  },
  {
   "cell_type": "code",
   "execution_count": 3,
   "id": "73bd36cf",
   "metadata": {},
   "outputs": [
    {
     "data": {
      "text/html": [
       "<div>\n",
       "<style scoped>\n",
       "    .dataframe tbody tr th:only-of-type {\n",
       "        vertical-align: middle;\n",
       "    }\n",
       "\n",
       "    .dataframe tbody tr th {\n",
       "        vertical-align: top;\n",
       "    }\n",
       "\n",
       "    .dataframe thead th {\n",
       "        text-align: right;\n",
       "    }\n",
       "</style>\n",
       "<table border=\"1\" class=\"dataframe\">\n",
       "  <thead>\n",
       "    <tr style=\"text-align: right;\">\n",
       "      <th></th>\n",
       "      <th>A</th>\n",
       "      <th>B</th>\n",
       "      <th>C</th>\n",
       "      <th>D</th>\n",
       "    </tr>\n",
       "  </thead>\n",
       "  <tbody>\n",
       "    <tr>\n",
       "      <th>2023-01-01</th>\n",
       "      <td>-0.275716</td>\n",
       "      <td>1.281337</td>\n",
       "      <td>-1.626059</td>\n",
       "      <td>-0.342007</td>\n",
       "    </tr>\n",
       "    <tr>\n",
       "      <th>2023-01-02</th>\n",
       "      <td>0.538574</td>\n",
       "      <td>0.062321</td>\n",
       "      <td>-1.142963</td>\n",
       "      <td>0.687714</td>\n",
       "    </tr>\n",
       "    <tr>\n",
       "      <th>2023-01-03</th>\n",
       "      <td>3.252529</td>\n",
       "      <td>-1.243151</td>\n",
       "      <td>0.576522</td>\n",
       "      <td>0.752074</td>\n",
       "    </tr>\n",
       "    <tr>\n",
       "      <th>2023-01-04</th>\n",
       "      <td>0.200502</td>\n",
       "      <td>0.066754</td>\n",
       "      <td>-0.194084</td>\n",
       "      <td>0.936919</td>\n",
       "    </tr>\n",
       "    <tr>\n",
       "      <th>2023-01-05</th>\n",
       "      <td>-0.051740</td>\n",
       "      <td>1.539505</td>\n",
       "      <td>1.063805</td>\n",
       "      <td>0.113250</td>\n",
       "    </tr>\n",
       "    <tr>\n",
       "      <th>2023-01-06</th>\n",
       "      <td>1.266830</td>\n",
       "      <td>0.577360</td>\n",
       "      <td>-0.820588</td>\n",
       "      <td>-0.850736</td>\n",
       "    </tr>\n",
       "    <tr>\n",
       "      <th>2023-01-07</th>\n",
       "      <td>-1.014024</td>\n",
       "      <td>-0.262142</td>\n",
       "      <td>0.959032</td>\n",
       "      <td>0.692985</td>\n",
       "    </tr>\n",
       "    <tr>\n",
       "      <th>2023-01-08</th>\n",
       "      <td>0.549139</td>\n",
       "      <td>-1.020330</td>\n",
       "      <td>-0.185078</td>\n",
       "      <td>0.131827</td>\n",
       "    </tr>\n",
       "    <tr>\n",
       "      <th>2023-01-09</th>\n",
       "      <td>0.795074</td>\n",
       "      <td>0.583225</td>\n",
       "      <td>-0.412308</td>\n",
       "      <td>-0.529318</td>\n",
       "    </tr>\n",
       "    <tr>\n",
       "      <th>2023-01-10</th>\n",
       "      <td>0.159926</td>\n",
       "      <td>-0.938423</td>\n",
       "      <td>-0.164951</td>\n",
       "      <td>0.943514</td>\n",
       "    </tr>\n",
       "  </tbody>\n",
       "</table>\n",
       "</div>"
      ],
      "text/plain": [
       "                   A         B         C         D\n",
       "2023-01-01 -0.275716  1.281337 -1.626059 -0.342007\n",
       "2023-01-02  0.538574  0.062321 -1.142963  0.687714\n",
       "2023-01-03  3.252529 -1.243151  0.576522  0.752074\n",
       "2023-01-04  0.200502  0.066754 -0.194084  0.936919\n",
       "2023-01-05 -0.051740  1.539505  1.063805  0.113250\n",
       "2023-01-06  1.266830  0.577360 -0.820588 -0.850736\n",
       "2023-01-07 -1.014024 -0.262142  0.959032  0.692985\n",
       "2023-01-08  0.549139 -1.020330 -0.185078  0.131827\n",
       "2023-01-09  0.795074  0.583225 -0.412308 -0.529318\n",
       "2023-01-10  0.159926 -0.938423 -0.164951  0.943514"
      ]
     },
     "execution_count": 3,
     "metadata": {},
     "output_type": "execute_result"
    }
   ],
   "source": [
    "# Create a dataframe with dates as the index\n",
    "df = pd.DataFrame(np.random.randn(10, 4), index=dates, columns=['A', 'B', 'C', 'D'])\n",
    "df"
   ]
  },
  {
   "cell_type": "code",
   "execution_count": 4,
   "id": "ef93e4a2",
   "metadata": {},
   "outputs": [
    {
     "data": {
      "text/plain": [
       "0.20050231053755718"
      ]
     },
     "execution_count": 4,
     "metadata": {},
     "output_type": "execute_result"
    }
   ],
   "source": [
    "# The most basic indexing using []\n",
    "s = df['A']\n",
    "s[dates[3]]"
   ]
  },
  {
   "cell_type": "code",
   "execution_count": 5,
   "id": "45e617ee",
   "metadata": {},
   "outputs": [
    {
     "data": {
      "text/html": [
       "<div>\n",
       "<style scoped>\n",
       "    .dataframe tbody tr th:only-of-type {\n",
       "        vertical-align: middle;\n",
       "    }\n",
       "\n",
       "    .dataframe tbody tr th {\n",
       "        vertical-align: top;\n",
       "    }\n",
       "\n",
       "    .dataframe thead th {\n",
       "        text-align: right;\n",
       "    }\n",
       "</style>\n",
       "<table border=\"1\" class=\"dataframe\">\n",
       "  <thead>\n",
       "    <tr style=\"text-align: right;\">\n",
       "      <th></th>\n",
       "      <th>B</th>\n",
       "      <th>C</th>\n",
       "    </tr>\n",
       "  </thead>\n",
       "  <tbody>\n",
       "    <tr>\n",
       "      <th>2023-01-01</th>\n",
       "      <td>1.281337</td>\n",
       "      <td>-1.626059</td>\n",
       "    </tr>\n",
       "    <tr>\n",
       "      <th>2023-01-02</th>\n",
       "      <td>0.062321</td>\n",
       "      <td>-1.142963</td>\n",
       "    </tr>\n",
       "    <tr>\n",
       "      <th>2023-01-03</th>\n",
       "      <td>-1.243151</td>\n",
       "      <td>0.576522</td>\n",
       "    </tr>\n",
       "    <tr>\n",
       "      <th>2023-01-04</th>\n",
       "      <td>0.066754</td>\n",
       "      <td>-0.194084</td>\n",
       "    </tr>\n",
       "    <tr>\n",
       "      <th>2023-01-05</th>\n",
       "      <td>1.539505</td>\n",
       "      <td>1.063805</td>\n",
       "    </tr>\n",
       "    <tr>\n",
       "      <th>2023-01-06</th>\n",
       "      <td>0.577360</td>\n",
       "      <td>-0.820588</td>\n",
       "    </tr>\n",
       "    <tr>\n",
       "      <th>2023-01-07</th>\n",
       "      <td>-0.262142</td>\n",
       "      <td>0.959032</td>\n",
       "    </tr>\n",
       "    <tr>\n",
       "      <th>2023-01-08</th>\n",
       "      <td>-1.020330</td>\n",
       "      <td>-0.185078</td>\n",
       "    </tr>\n",
       "    <tr>\n",
       "      <th>2023-01-09</th>\n",
       "      <td>0.583225</td>\n",
       "      <td>-0.412308</td>\n",
       "    </tr>\n",
       "    <tr>\n",
       "      <th>2023-01-10</th>\n",
       "      <td>-0.938423</td>\n",
       "      <td>-0.164951</td>\n",
       "    </tr>\n",
       "  </tbody>\n",
       "</table>\n",
       "</div>"
      ],
      "text/plain": [
       "                   B         C\n",
       "2023-01-01  1.281337 -1.626059\n",
       "2023-01-02  0.062321 -1.142963\n",
       "2023-01-03 -1.243151  0.576522\n",
       "2023-01-04  0.066754 -0.194084\n",
       "2023-01-05  1.539505  1.063805\n",
       "2023-01-06  0.577360 -0.820588\n",
       "2023-01-07 -0.262142  0.959032\n",
       "2023-01-08 -1.020330 -0.185078\n",
       "2023-01-09  0.583225 -0.412308\n",
       "2023-01-10 -0.938423 -0.164951"
      ]
     },
     "execution_count": 5,
     "metadata": {},
     "output_type": "execute_result"
    }
   ],
   "source": [
    "# We can pass a list of columns to [] to select columns in that order. \n",
    "# If a column is not contained in the DataFrame, an exception will be raised.\n",
    "\n",
    "df[['B', 'C']]"
   ]
  },
  {
   "cell_type": "markdown",
   "id": "87a2518b",
   "metadata": {},
   "source": [
    "## Attribute access"
   ]
  },
  {
   "cell_type": "code",
   "execution_count": 6,
   "id": "595c6f7b",
   "metadata": {},
   "outputs": [
    {
     "data": {
      "text/plain": [
       "1"
      ]
     },
     "execution_count": 6,
     "metadata": {},
     "output_type": "execute_result"
    }
   ],
   "source": [
    "sa = pd.Series([1, 3, 5], index=['a', 'b', 'c'])\n",
    "dfa = df.copy()\n",
    "\n",
    "# We can also access an index on a Series or column on a DataFrame directly as an attribute:\n",
    "sa.a"
   ]
  },
  {
   "cell_type": "code",
   "execution_count": 7,
   "id": "3a92f82a",
   "metadata": {},
   "outputs": [
    {
     "data": {
      "text/plain": [
       "2023-01-01   -0.275716\n",
       "2023-01-02    0.538574\n",
       "2023-01-03    3.252529\n",
       "2023-01-04    0.200502\n",
       "2023-01-05   -0.051740\n",
       "2023-01-06    1.266830\n",
       "2023-01-07   -1.014024\n",
       "2023-01-08    0.549139\n",
       "2023-01-09    0.795074\n",
       "2023-01-10    0.159926\n",
       "Freq: D, Name: A, dtype: float64"
      ]
     },
     "execution_count": 7,
     "metadata": {},
     "output_type": "execute_result"
    }
   ],
   "source": [
    "# Accessing an index on a dataframe directly as an attribute\n",
    "dfa.A"
   ]
  },
  {
   "cell_type": "code",
   "execution_count": 8,
   "id": "d877e859",
   "metadata": {},
   "outputs": [
    {
     "data": {
      "text/html": [
       "<div>\n",
       "<style scoped>\n",
       "    .dataframe tbody tr th:only-of-type {\n",
       "        vertical-align: middle;\n",
       "    }\n",
       "\n",
       "    .dataframe tbody tr th {\n",
       "        vertical-align: top;\n",
       "    }\n",
       "\n",
       "    .dataframe thead th {\n",
       "        text-align: right;\n",
       "    }\n",
       "</style>\n",
       "<table border=\"1\" class=\"dataframe\">\n",
       "  <thead>\n",
       "    <tr style=\"text-align: right;\">\n",
       "      <th></th>\n",
       "      <th>A</th>\n",
       "      <th>B</th>\n",
       "      <th>C</th>\n",
       "      <th>D</th>\n",
       "    </tr>\n",
       "  </thead>\n",
       "  <tbody>\n",
       "    <tr>\n",
       "      <th>2023-01-01</th>\n",
       "      <td>0</td>\n",
       "      <td>1.281337</td>\n",
       "      <td>-1.626059</td>\n",
       "      <td>-0.342007</td>\n",
       "    </tr>\n",
       "    <tr>\n",
       "      <th>2023-01-02</th>\n",
       "      <td>1</td>\n",
       "      <td>0.062321</td>\n",
       "      <td>-1.142963</td>\n",
       "      <td>0.687714</td>\n",
       "    </tr>\n",
       "    <tr>\n",
       "      <th>2023-01-03</th>\n",
       "      <td>2</td>\n",
       "      <td>-1.243151</td>\n",
       "      <td>0.576522</td>\n",
       "      <td>0.752074</td>\n",
       "    </tr>\n",
       "    <tr>\n",
       "      <th>2023-01-04</th>\n",
       "      <td>3</td>\n",
       "      <td>0.066754</td>\n",
       "      <td>-0.194084</td>\n",
       "      <td>0.936919</td>\n",
       "    </tr>\n",
       "    <tr>\n",
       "      <th>2023-01-05</th>\n",
       "      <td>4</td>\n",
       "      <td>1.539505</td>\n",
       "      <td>1.063805</td>\n",
       "      <td>0.113250</td>\n",
       "    </tr>\n",
       "    <tr>\n",
       "      <th>2023-01-06</th>\n",
       "      <td>5</td>\n",
       "      <td>0.577360</td>\n",
       "      <td>-0.820588</td>\n",
       "      <td>-0.850736</td>\n",
       "    </tr>\n",
       "    <tr>\n",
       "      <th>2023-01-07</th>\n",
       "      <td>6</td>\n",
       "      <td>-0.262142</td>\n",
       "      <td>0.959032</td>\n",
       "      <td>0.692985</td>\n",
       "    </tr>\n",
       "    <tr>\n",
       "      <th>2023-01-08</th>\n",
       "      <td>7</td>\n",
       "      <td>-1.020330</td>\n",
       "      <td>-0.185078</td>\n",
       "      <td>0.131827</td>\n",
       "    </tr>\n",
       "    <tr>\n",
       "      <th>2023-01-09</th>\n",
       "      <td>8</td>\n",
       "      <td>0.583225</td>\n",
       "      <td>-0.412308</td>\n",
       "      <td>-0.529318</td>\n",
       "    </tr>\n",
       "    <tr>\n",
       "      <th>2023-01-10</th>\n",
       "      <td>9</td>\n",
       "      <td>-0.938423</td>\n",
       "      <td>-0.164951</td>\n",
       "      <td>0.943514</td>\n",
       "    </tr>\n",
       "  </tbody>\n",
       "</table>\n",
       "</div>"
      ],
      "text/plain": [
       "            A         B         C         D\n",
       "2023-01-01  0  1.281337 -1.626059 -0.342007\n",
       "2023-01-02  1  0.062321 -1.142963  0.687714\n",
       "2023-01-03  2 -1.243151  0.576522  0.752074\n",
       "2023-01-04  3  0.066754 -0.194084  0.936919\n",
       "2023-01-05  4  1.539505  1.063805  0.113250\n",
       "2023-01-06  5  0.577360 -0.820588 -0.850736\n",
       "2023-01-07  6 -0.262142  0.959032  0.692985\n",
       "2023-01-08  7 -1.020330 -0.185078  0.131827\n",
       "2023-01-09  8  0.583225 -0.412308 -0.529318\n",
       "2023-01-10  9 -0.938423 -0.164951  0.943514"
      ]
     },
     "execution_count": 8,
     "metadata": {},
     "output_type": "execute_result"
    }
   ],
   "source": [
    "dfa['A'] = list(range(len(dfa.index)))\n",
    "dfa"
   ]
  },
  {
   "cell_type": "code",
   "execution_count": 9,
   "id": "958601f1",
   "metadata": {},
   "outputs": [
    {
     "data": {
      "text/plain": [
       "2023-01-01   -0.275716\n",
       "2023-01-02    0.538574\n",
       "2023-01-03    3.252529\n",
       "2023-01-04    0.200502\n",
       "2023-01-05   -0.051740\n",
       "2023-01-06    1.266830\n",
       "2023-01-07   -1.014024\n",
       "2023-01-08    0.549139\n",
       "2023-01-09    0.795074\n",
       "2023-01-10    0.159926\n",
       "Freq: D, Name: A, dtype: float64"
      ]
     },
     "execution_count": 9,
     "metadata": {},
     "output_type": "execute_result"
    }
   ],
   "source": [
    "df.A"
   ]
  },
  {
   "cell_type": "code",
   "execution_count": 10,
   "id": "d92c10ec",
   "metadata": {},
   "outputs": [
    {
     "data": {
      "text/html": [
       "<div>\n",
       "<style scoped>\n",
       "    .dataframe tbody tr th:only-of-type {\n",
       "        vertical-align: middle;\n",
       "    }\n",
       "\n",
       "    .dataframe tbody tr th {\n",
       "        vertical-align: top;\n",
       "    }\n",
       "\n",
       "    .dataframe thead th {\n",
       "        text-align: right;\n",
       "    }\n",
       "</style>\n",
       "<table border=\"1\" class=\"dataframe\">\n",
       "  <thead>\n",
       "    <tr style=\"text-align: right;\">\n",
       "      <th></th>\n",
       "      <th>A</th>\n",
       "      <th>B</th>\n",
       "      <th>C</th>\n",
       "      <th>D</th>\n",
       "    </tr>\n",
       "  </thead>\n",
       "  <tbody>\n",
       "    <tr>\n",
       "      <th>2023-01-01</th>\n",
       "      <td>-0.275716</td>\n",
       "      <td>1.281337</td>\n",
       "      <td>-1.626059</td>\n",
       "      <td>-0.342007</td>\n",
       "    </tr>\n",
       "    <tr>\n",
       "      <th>2023-01-02</th>\n",
       "      <td>0.538574</td>\n",
       "      <td>0.062321</td>\n",
       "      <td>-1.142963</td>\n",
       "      <td>0.687714</td>\n",
       "    </tr>\n",
       "    <tr>\n",
       "      <th>2023-01-03</th>\n",
       "      <td>3.252529</td>\n",
       "      <td>-1.243151</td>\n",
       "      <td>0.576522</td>\n",
       "      <td>0.752074</td>\n",
       "    </tr>\n",
       "    <tr>\n",
       "      <th>2023-01-04</th>\n",
       "      <td>0.200502</td>\n",
       "      <td>0.066754</td>\n",
       "      <td>-0.194084</td>\n",
       "      <td>0.936919</td>\n",
       "    </tr>\n",
       "    <tr>\n",
       "      <th>2023-01-05</th>\n",
       "      <td>-0.051740</td>\n",
       "      <td>1.539505</td>\n",
       "      <td>1.063805</td>\n",
       "      <td>0.113250</td>\n",
       "    </tr>\n",
       "    <tr>\n",
       "      <th>2023-01-06</th>\n",
       "      <td>1.266830</td>\n",
       "      <td>0.577360</td>\n",
       "      <td>-0.820588</td>\n",
       "      <td>-0.850736</td>\n",
       "    </tr>\n",
       "    <tr>\n",
       "      <th>2023-01-07</th>\n",
       "      <td>-1.014024</td>\n",
       "      <td>-0.262142</td>\n",
       "      <td>0.959032</td>\n",
       "      <td>0.692985</td>\n",
       "    </tr>\n",
       "    <tr>\n",
       "      <th>2023-01-08</th>\n",
       "      <td>0.549139</td>\n",
       "      <td>-1.020330</td>\n",
       "      <td>-0.185078</td>\n",
       "      <td>0.131827</td>\n",
       "    </tr>\n",
       "    <tr>\n",
       "      <th>2023-01-09</th>\n",
       "      <td>0.795074</td>\n",
       "      <td>0.583225</td>\n",
       "      <td>-0.412308</td>\n",
       "      <td>-0.529318</td>\n",
       "    </tr>\n",
       "    <tr>\n",
       "      <th>2023-01-10</th>\n",
       "      <td>0.159926</td>\n",
       "      <td>-0.938423</td>\n",
       "      <td>-0.164951</td>\n",
       "      <td>0.943514</td>\n",
       "    </tr>\n",
       "  </tbody>\n",
       "</table>\n",
       "</div>"
      ],
      "text/plain": [
       "                   A         B         C         D\n",
       "2023-01-01 -0.275716  1.281337 -1.626059 -0.342007\n",
       "2023-01-02  0.538574  0.062321 -1.142963  0.687714\n",
       "2023-01-03  3.252529 -1.243151  0.576522  0.752074\n",
       "2023-01-04  0.200502  0.066754 -0.194084  0.936919\n",
       "2023-01-05 -0.051740  1.539505  1.063805  0.113250\n",
       "2023-01-06  1.266830  0.577360 -0.820588 -0.850736\n",
       "2023-01-07 -1.014024 -0.262142  0.959032  0.692985\n",
       "2023-01-08  0.549139 -1.020330 -0.185078  0.131827\n",
       "2023-01-09  0.795074  0.583225 -0.412308 -0.529318\n",
       "2023-01-10  0.159926 -0.938423 -0.164951  0.943514"
      ]
     },
     "execution_count": 10,
     "metadata": {},
     "output_type": "execute_result"
    }
   ],
   "source": [
    "df"
   ]
  },
  {
   "cell_type": "markdown",
   "id": "5ed40b9c",
   "metadata": {},
   "source": [
    "## Slicing ranges"
   ]
  },
  {
   "cell_type": "code",
   "execution_count": 11,
   "id": "82d1c0fe",
   "metadata": {},
   "outputs": [
    {
     "data": {
      "text/plain": [
       "2023-01-01   -0.275716\n",
       "2023-01-02    0.538574\n",
       "2023-01-03    3.252529\n",
       "Freq: D, Name: A, dtype: float64"
      ]
     },
     "execution_count": 11,
     "metadata": {},
     "output_type": "execute_result"
    }
   ],
   "source": [
    "# For Series, slicing returns a slice of the values and the corresponding labels:\n",
    "s[:3]"
   ]
  },
  {
   "cell_type": "code",
   "execution_count": 12,
   "id": "07deb89a",
   "metadata": {},
   "outputs": [
    {
     "data": {
      "text/plain": [
       "2023-01-01   -0.275716\n",
       "2023-01-03    3.252529\n",
       "2023-01-05   -0.051740\n",
       "2023-01-07   -1.014024\n",
       "2023-01-09    0.795074\n",
       "Freq: 2D, Name: A, dtype: float64"
      ]
     },
     "execution_count": 12,
     "metadata": {},
     "output_type": "execute_result"
    }
   ],
   "source": [
    "s[::2]"
   ]
  },
  {
   "cell_type": "code",
   "execution_count": 13,
   "id": "485437c9",
   "metadata": {},
   "outputs": [
    {
     "data": {
      "text/plain": [
       "2023-01-10    0.159926\n",
       "2023-01-09    0.795074\n",
       "2023-01-08    0.549139\n",
       "2023-01-07   -1.014024\n",
       "2023-01-06    1.266830\n",
       "2023-01-05   -0.051740\n",
       "2023-01-04    0.200502\n",
       "2023-01-03    3.252529\n",
       "2023-01-02    0.538574\n",
       "2023-01-01   -0.275716\n",
       "Freq: -1D, Name: A, dtype: float64"
      ]
     },
     "execution_count": 13,
     "metadata": {},
     "output_type": "execute_result"
    }
   ],
   "source": [
    "s[::-1]"
   ]
  },
  {
   "cell_type": "code",
   "execution_count": 15,
   "id": "2e76e01c",
   "metadata": {},
   "outputs": [
    {
     "data": {
      "text/plain": [
       "2023-01-01    0.000000\n",
       "2023-01-02    0.000000\n",
       "2023-01-03    0.000000\n",
       "2023-01-04    0.200502\n",
       "2023-01-05   -0.051740\n",
       "2023-01-06    1.266830\n",
       "2023-01-07   -1.014024\n",
       "2023-01-08    0.549139\n",
       "2023-01-09    0.795074\n",
       "2023-01-10    0.159926\n",
       "Freq: D, Name: A, dtype: float64"
      ]
     },
     "execution_count": 15,
     "metadata": {},
     "output_type": "execute_result"
    }
   ],
   "source": [
    "# Setting (or assignment) works woth slicing as well:\n",
    "s2 = s.copy()\n",
    "\n",
    "s2[:3] = 0\n",
    "s2"
   ]
  },
  {
   "cell_type": "markdown",
   "id": "539809d6",
   "metadata": {},
   "source": [
    "### \n",
    "\n",
    "For DataFrames, slicing inside of [] slices the rows."
   ]
  },
  {
   "cell_type": "code",
   "execution_count": 16,
   "id": "6800112d",
   "metadata": {},
   "outputs": [
    {
     "data": {
      "text/html": [
       "<div>\n",
       "<style scoped>\n",
       "    .dataframe tbody tr th:only-of-type {\n",
       "        vertical-align: middle;\n",
       "    }\n",
       "\n",
       "    .dataframe tbody tr th {\n",
       "        vertical-align: top;\n",
       "    }\n",
       "\n",
       "    .dataframe thead th {\n",
       "        text-align: right;\n",
       "    }\n",
       "</style>\n",
       "<table border=\"1\" class=\"dataframe\">\n",
       "  <thead>\n",
       "    <tr style=\"text-align: right;\">\n",
       "      <th></th>\n",
       "      <th>A</th>\n",
       "      <th>B</th>\n",
       "      <th>C</th>\n",
       "      <th>D</th>\n",
       "    </tr>\n",
       "  </thead>\n",
       "  <tbody>\n",
       "    <tr>\n",
       "      <th>2023-01-01</th>\n",
       "      <td>-0.275716</td>\n",
       "      <td>1.281337</td>\n",
       "      <td>-1.626059</td>\n",
       "      <td>-0.342007</td>\n",
       "    </tr>\n",
       "    <tr>\n",
       "      <th>2023-01-02</th>\n",
       "      <td>0.538574</td>\n",
       "      <td>0.062321</td>\n",
       "      <td>-1.142963</td>\n",
       "      <td>0.687714</td>\n",
       "    </tr>\n",
       "    <tr>\n",
       "      <th>2023-01-03</th>\n",
       "      <td>3.252529</td>\n",
       "      <td>-1.243151</td>\n",
       "      <td>0.576522</td>\n",
       "      <td>0.752074</td>\n",
       "    </tr>\n",
       "    <tr>\n",
       "      <th>2023-01-04</th>\n",
       "      <td>0.200502</td>\n",
       "      <td>0.066754</td>\n",
       "      <td>-0.194084</td>\n",
       "      <td>0.936919</td>\n",
       "    </tr>\n",
       "  </tbody>\n",
       "</table>\n",
       "</div>"
      ],
      "text/plain": [
       "                   A         B         C         D\n",
       "2023-01-01 -0.275716  1.281337 -1.626059 -0.342007\n",
       "2023-01-02  0.538574  0.062321 -1.142963  0.687714\n",
       "2023-01-03  3.252529 -1.243151  0.576522  0.752074\n",
       "2023-01-04  0.200502  0.066754 -0.194084  0.936919"
      ]
     },
     "execution_count": 16,
     "metadata": {},
     "output_type": "execute_result"
    }
   ],
   "source": [
    "df[:4]"
   ]
  },
  {
   "cell_type": "code",
   "execution_count": 17,
   "id": "93a079f5",
   "metadata": {},
   "outputs": [
    {
     "data": {
      "text/html": [
       "<div>\n",
       "<style scoped>\n",
       "    .dataframe tbody tr th:only-of-type {\n",
       "        vertical-align: middle;\n",
       "    }\n",
       "\n",
       "    .dataframe tbody tr th {\n",
       "        vertical-align: top;\n",
       "    }\n",
       "\n",
       "    .dataframe thead th {\n",
       "        text-align: right;\n",
       "    }\n",
       "</style>\n",
       "<table border=\"1\" class=\"dataframe\">\n",
       "  <thead>\n",
       "    <tr style=\"text-align: right;\">\n",
       "      <th></th>\n",
       "      <th>A</th>\n",
       "      <th>B</th>\n",
       "      <th>C</th>\n",
       "      <th>D</th>\n",
       "    </tr>\n",
       "  </thead>\n",
       "  <tbody>\n",
       "    <tr>\n",
       "      <th>2023-01-10</th>\n",
       "      <td>0.159926</td>\n",
       "      <td>-0.938423</td>\n",
       "      <td>-0.164951</td>\n",
       "      <td>0.943514</td>\n",
       "    </tr>\n",
       "    <tr>\n",
       "      <th>2023-01-09</th>\n",
       "      <td>0.795074</td>\n",
       "      <td>0.583225</td>\n",
       "      <td>-0.412308</td>\n",
       "      <td>-0.529318</td>\n",
       "    </tr>\n",
       "    <tr>\n",
       "      <th>2023-01-08</th>\n",
       "      <td>0.549139</td>\n",
       "      <td>-1.020330</td>\n",
       "      <td>-0.185078</td>\n",
       "      <td>0.131827</td>\n",
       "    </tr>\n",
       "    <tr>\n",
       "      <th>2023-01-07</th>\n",
       "      <td>-1.014024</td>\n",
       "      <td>-0.262142</td>\n",
       "      <td>0.959032</td>\n",
       "      <td>0.692985</td>\n",
       "    </tr>\n",
       "    <tr>\n",
       "      <th>2023-01-06</th>\n",
       "      <td>1.266830</td>\n",
       "      <td>0.577360</td>\n",
       "      <td>-0.820588</td>\n",
       "      <td>-0.850736</td>\n",
       "    </tr>\n",
       "    <tr>\n",
       "      <th>2023-01-05</th>\n",
       "      <td>-0.051740</td>\n",
       "      <td>1.539505</td>\n",
       "      <td>1.063805</td>\n",
       "      <td>0.113250</td>\n",
       "    </tr>\n",
       "    <tr>\n",
       "      <th>2023-01-04</th>\n",
       "      <td>0.200502</td>\n",
       "      <td>0.066754</td>\n",
       "      <td>-0.194084</td>\n",
       "      <td>0.936919</td>\n",
       "    </tr>\n",
       "    <tr>\n",
       "      <th>2023-01-03</th>\n",
       "      <td>3.252529</td>\n",
       "      <td>-1.243151</td>\n",
       "      <td>0.576522</td>\n",
       "      <td>0.752074</td>\n",
       "    </tr>\n",
       "    <tr>\n",
       "      <th>2023-01-02</th>\n",
       "      <td>0.538574</td>\n",
       "      <td>0.062321</td>\n",
       "      <td>-1.142963</td>\n",
       "      <td>0.687714</td>\n",
       "    </tr>\n",
       "    <tr>\n",
       "      <th>2023-01-01</th>\n",
       "      <td>-0.275716</td>\n",
       "      <td>1.281337</td>\n",
       "      <td>-1.626059</td>\n",
       "      <td>-0.342007</td>\n",
       "    </tr>\n",
       "  </tbody>\n",
       "</table>\n",
       "</div>"
      ],
      "text/plain": [
       "                   A         B         C         D\n",
       "2023-01-10  0.159926 -0.938423 -0.164951  0.943514\n",
       "2023-01-09  0.795074  0.583225 -0.412308 -0.529318\n",
       "2023-01-08  0.549139 -1.020330 -0.185078  0.131827\n",
       "2023-01-07 -1.014024 -0.262142  0.959032  0.692985\n",
       "2023-01-06  1.266830  0.577360 -0.820588 -0.850736\n",
       "2023-01-05 -0.051740  1.539505  1.063805  0.113250\n",
       "2023-01-04  0.200502  0.066754 -0.194084  0.936919\n",
       "2023-01-03  3.252529 -1.243151  0.576522  0.752074\n",
       "2023-01-02  0.538574  0.062321 -1.142963  0.687714\n",
       "2023-01-01 -0.275716  1.281337 -1.626059 -0.342007"
      ]
     },
     "execution_count": 17,
     "metadata": {},
     "output_type": "execute_result"
    }
   ],
   "source": [
    "df[::-1]"
   ]
  },
  {
   "cell_type": "markdown",
   "id": "6d4d8a49",
   "metadata": {},
   "source": [
    "## Selection by label"
   ]
  },
  {
   "cell_type": "code",
   "execution_count": 18,
   "id": "8defbebb",
   "metadata": {},
   "outputs": [
    {
     "data": {
      "text/html": [
       "<div>\n",
       "<style scoped>\n",
       "    .dataframe tbody tr th:only-of-type {\n",
       "        vertical-align: middle;\n",
       "    }\n",
       "\n",
       "    .dataframe tbody tr th {\n",
       "        vertical-align: top;\n",
       "    }\n",
       "\n",
       "    .dataframe thead th {\n",
       "        text-align: right;\n",
       "    }\n",
       "</style>\n",
       "<table border=\"1\" class=\"dataframe\">\n",
       "  <thead>\n",
       "    <tr style=\"text-align: right;\">\n",
       "      <th></th>\n",
       "      <th>A</th>\n",
       "      <th>B</th>\n",
       "      <th>C</th>\n",
       "      <th>D</th>\n",
       "      <th>E</th>\n",
       "    </tr>\n",
       "  </thead>\n",
       "  <tbody>\n",
       "    <tr>\n",
       "      <th>2015-01-03</th>\n",
       "      <td>-0.410053</td>\n",
       "      <td>-1.315199</td>\n",
       "      <td>1.672055</td>\n",
       "      <td>0.680550</td>\n",
       "      <td>0.347426</td>\n",
       "    </tr>\n",
       "    <tr>\n",
       "      <th>2015-01-04</th>\n",
       "      <td>0.422156</td>\n",
       "      <td>-0.739529</td>\n",
       "      <td>-0.530206</td>\n",
       "      <td>-0.541658</td>\n",
       "      <td>0.385715</td>\n",
       "    </tr>\n",
       "    <tr>\n",
       "      <th>2015-01-05</th>\n",
       "      <td>0.874088</td>\n",
       "      <td>-0.828446</td>\n",
       "      <td>0.118881</td>\n",
       "      <td>0.232361</td>\n",
       "      <td>-1.107106</td>\n",
       "    </tr>\n",
       "    <tr>\n",
       "      <th>2015-01-06</th>\n",
       "      <td>-0.518065</td>\n",
       "      <td>0.823950</td>\n",
       "      <td>1.213931</td>\n",
       "      <td>-1.580868</td>\n",
       "      <td>1.657634</td>\n",
       "    </tr>\n",
       "    <tr>\n",
       "      <th>2015-01-07</th>\n",
       "      <td>1.002888</td>\n",
       "      <td>-0.253666</td>\n",
       "      <td>0.677227</td>\n",
       "      <td>0.069732</td>\n",
       "      <td>1.350730</td>\n",
       "    </tr>\n",
       "    <tr>\n",
       "      <th>2015-01-08</th>\n",
       "      <td>0.585646</td>\n",
       "      <td>1.080428</td>\n",
       "      <td>-1.797891</td>\n",
       "      <td>-0.468049</td>\n",
       "      <td>1.770426</td>\n",
       "    </tr>\n",
       "  </tbody>\n",
       "</table>\n",
       "</div>"
      ],
      "text/plain": [
       "                   A         B         C         D         E\n",
       "2015-01-03 -0.410053 -1.315199  1.672055  0.680550  0.347426\n",
       "2015-01-04  0.422156 -0.739529 -0.530206 -0.541658  0.385715\n",
       "2015-01-05  0.874088 -0.828446  0.118881  0.232361 -1.107106\n",
       "2015-01-06 -0.518065  0.823950  1.213931 -1.580868  1.657634\n",
       "2015-01-07  1.002888 -0.253666  0.677227  0.069732  1.350730\n",
       "2015-01-08  0.585646  1.080428 -1.797891 -0.468049  1.770426"
      ]
     },
     "execution_count": 18,
     "metadata": {},
     "output_type": "execute_result"
    }
   ],
   "source": [
    "# Create a dataframe from a normal distribution\n",
    "df1 = pd.DataFrame(np.random.randn(6, 5), columns=list('ABCDE'), index=pd.date_range('1/3/2015', periods=6))\n",
    "df1"
   ]
  },
  {
   "cell_type": "markdown",
   "id": "6749e356",
   "metadata": {},
   "source": [
    "### Warning:\n",
    ".loc is strict when you present slicers that are not compatible (or convertible) with the index type. For\n",
    "example using integers in a DatetimeIndex. \n",
    "These will raise a TypeError. "
   ]
  },
  {
   "cell_type": "code",
   "execution_count": 27,
   "id": "3a42c75b",
   "metadata": {},
   "outputs": [
    {
     "name": "stdout",
     "output_type": "stream",
     "text": [
      "The error reads:  cannot do slice indexing on DatetimeIndex with these indexers [2] of type int\n"
     ]
    }
   ],
   "source": [
    "try:\n",
    "    df1.loc[2:3]\n",
    "except TypeError:\n",
    "    print('The error reads: ', 'cannot do slice indexing on DatetimeIndex with these indexers [2] of type int')"
   ]
  },
  {
   "cell_type": "code",
   "execution_count": 30,
   "id": "f4ae088f",
   "metadata": {},
   "outputs": [
    {
     "data": {
      "text/html": [
       "<div>\n",
       "<style scoped>\n",
       "    .dataframe tbody tr th:only-of-type {\n",
       "        vertical-align: middle;\n",
       "    }\n",
       "\n",
       "    .dataframe tbody tr th {\n",
       "        vertical-align: top;\n",
       "    }\n",
       "\n",
       "    .dataframe thead th {\n",
       "        text-align: right;\n",
       "    }\n",
       "</style>\n",
       "<table border=\"1\" class=\"dataframe\">\n",
       "  <thead>\n",
       "    <tr style=\"text-align: right;\">\n",
       "      <th></th>\n",
       "      <th>A</th>\n",
       "      <th>B</th>\n",
       "      <th>C</th>\n",
       "      <th>D</th>\n",
       "      <th>E</th>\n",
       "    </tr>\n",
       "  </thead>\n",
       "  <tbody>\n",
       "    <tr>\n",
       "      <th>2015-01-06</th>\n",
       "      <td>-0.518065</td>\n",
       "      <td>0.823950</td>\n",
       "      <td>1.213931</td>\n",
       "      <td>-1.580868</td>\n",
       "      <td>1.657634</td>\n",
       "    </tr>\n",
       "    <tr>\n",
       "      <th>2015-01-07</th>\n",
       "      <td>1.002888</td>\n",
       "      <td>-0.253666</td>\n",
       "      <td>0.677227</td>\n",
       "      <td>0.069732</td>\n",
       "      <td>1.350730</td>\n",
       "    </tr>\n",
       "  </tbody>\n",
       "</table>\n",
       "</div>"
      ],
      "text/plain": [
       "                   A         B         C         D         E\n",
       "2015-01-06 -0.518065  0.823950  1.213931 -1.580868  1.657634\n",
       "2015-01-07  1.002888 -0.253666  0.677227  0.069732  1.350730"
      ]
     },
     "execution_count": 30,
     "metadata": {},
     "output_type": "execute_result"
    }
   ],
   "source": [
    "# String likes in slicing can be convertible to the type of the index and lead to natural slicing:\n",
    "\n",
    "df1.loc['20150106': '20150107']"
   ]
  },
  {
   "cell_type": "code",
   "execution_count": 38,
   "id": "c460a710",
   "metadata": {},
   "outputs": [
    {
     "data": {
      "text/plain": [
       "-0.5180650967417435"
      ]
     },
     "execution_count": 38,
     "metadata": {},
     "output_type": "execute_result"
    }
   ],
   "source": [
    "df1.loc['20150106', 'A']"
   ]
  },
  {
   "cell_type": "code",
   "execution_count": 39,
   "id": "10d02f3b",
   "metadata": {},
   "outputs": [
    {
     "data": {
      "text/plain": [
       "-0.5180650967417435"
      ]
     },
     "execution_count": 39,
     "metadata": {},
     "output_type": "execute_result"
    }
   ],
   "source": [
    "df1.loc['20150106'].A"
   ]
  },
  {
   "cell_type": "code",
   "execution_count": 40,
   "id": "2929bb68",
   "metadata": {},
   "outputs": [
    {
     "data": {
      "text/plain": [
       "-0.5180650967417435"
      ]
     },
     "execution_count": 40,
     "metadata": {},
     "output_type": "execute_result"
    }
   ],
   "source": [
    "df1.loc['20150106'].loc['A']"
   ]
  },
  {
   "cell_type": "code",
   "execution_count": 41,
   "id": "266ee7bd",
   "metadata": {},
   "outputs": [
    {
     "data": {
      "text/plain": [
       "2023-01-01   -0.275716\n",
       "2023-01-02    0.538574\n",
       "2023-01-03    3.252529\n",
       "2023-01-04    0.200502\n",
       "2023-01-05   -0.051740\n",
       "2023-01-06    1.266830\n",
       "2023-01-07   -1.014024\n",
       "2023-01-08    0.549139\n",
       "2023-01-09    0.795074\n",
       "2023-01-10    0.159926\n",
       "Freq: D, Name: A, dtype: float64"
      ]
     },
     "execution_count": 41,
     "metadata": {},
     "output_type": "execute_result"
    }
   ],
   "source": [
    "s"
   ]
  },
  {
   "cell_type": "code",
   "execution_count": 42,
   "id": "4be5a0d0",
   "metadata": {},
   "outputs": [],
   "source": [
    "sw = s.copy()"
   ]
  },
  {
   "cell_type": "code",
   "execution_count": 43,
   "id": "2a9f08cf",
   "metadata": {},
   "outputs": [
    {
     "data": {
      "text/plain": [
       "2023-01-01         NaN\n",
       "2023-01-02    0.538574\n",
       "2023-01-03    3.252529\n",
       "2023-01-04    0.200502\n",
       "2023-01-05         NaN\n",
       "2023-01-06    1.266830\n",
       "2023-01-07         NaN\n",
       "2023-01-08    0.549139\n",
       "2023-01-09    0.795074\n",
       "2023-01-10    0.159926\n",
       "Freq: D, Name: A, dtype: float64"
      ]
     },
     "execution_count": 43,
     "metadata": {},
     "output_type": "execute_result"
    }
   ],
   "source": [
    "sw.where(s>0)"
   ]
  },
  {
   "cell_type": "code",
   "execution_count": 44,
   "id": "2019d991",
   "metadata": {},
   "outputs": [
    {
     "data": {
      "text/plain": [
       "2023-01-01    0.275716\n",
       "2023-01-02    0.538574\n",
       "2023-01-03    3.252529\n",
       "2023-01-04    0.200502\n",
       "2023-01-05    0.051740\n",
       "2023-01-06    1.266830\n",
       "2023-01-07    1.014024\n",
       "2023-01-08    0.549139\n",
       "2023-01-09    0.795074\n",
       "2023-01-10    0.159926\n",
       "Freq: D, Name: A, dtype: float64"
      ]
     },
     "execution_count": 44,
     "metadata": {},
     "output_type": "execute_result"
    }
   ],
   "source": [
    "sw.where(s>0, -s)"
   ]
  },
  {
   "cell_type": "code",
   "execution_count": 45,
   "id": "974512a9",
   "metadata": {},
   "outputs": [
    {
     "data": {
      "text/plain": [
       "2023-01-02    0.538574\n",
       "2023-01-03    3.252529\n",
       "2023-01-04    0.200502\n",
       "2023-01-06    1.266830\n",
       "2023-01-08    0.549139\n",
       "2023-01-09    0.795074\n",
       "2023-01-10    0.159926\n",
       "Name: A, dtype: float64"
      ]
     },
     "execution_count": 45,
     "metadata": {},
     "output_type": "execute_result"
    }
   ],
   "source": [
    "s[s>0]"
   ]
  },
  {
   "cell_type": "code",
   "execution_count": 46,
   "id": "129bade1",
   "metadata": {},
   "outputs": [
    {
     "data": {
      "text/plain": [
       "2023-01-01   -0.275716\n",
       "2023-01-02    0.538574\n",
       "2023-01-03    3.252529\n",
       "2023-01-04    0.200502\n",
       "2023-01-05   -0.051740\n",
       "2023-01-06    1.266830\n",
       "2023-01-07   -1.014024\n",
       "2023-01-08    0.549139\n",
       "2023-01-09    0.795074\n",
       "2023-01-10    0.159926\n",
       "Freq: D, Name: A, dtype: float64"
      ]
     },
     "execution_count": 46,
     "metadata": {},
     "output_type": "execute_result"
    }
   ],
   "source": [
    "s"
   ]
  },
  {
   "cell_type": "code",
   "execution_count": 48,
   "id": "b8e01f39",
   "metadata": {},
   "outputs": [
    {
     "data": {
      "text/plain": [
       "3.2525289532440373"
      ]
     },
     "execution_count": 48,
     "metadata": {},
     "output_type": "execute_result"
    }
   ],
   "source": [
    "s.iat[2]"
   ]
  },
  {
   "cell_type": "code",
   "execution_count": 51,
   "id": "35193c84",
   "metadata": {},
   "outputs": [
    {
     "data": {
      "text/plain": [
       "array([[7.26082671, 6.55215829],\n",
       "       [6.96165418, 4.9640456 ]])"
      ]
     },
     "execution_count": 51,
     "metadata": {},
     "output_type": "execute_result"
    }
   ],
   "source": [
    "np.random.randn(2,2) + 7"
   ]
  },
  {
   "cell_type": "code",
   "execution_count": 70,
   "id": "535f2b32",
   "metadata": {},
   "outputs": [],
   "source": [
    "n = 20\n",
    "variables = {'product': np.random.choice(['laptop', 'hair_gel', 'bread', 'fuel', 'printing', 'camera'], size=n),\n",
    "            'company': np.random.choice(['bayley', 'paul', 'brilliant', 'tatenda', 'skyleh'], size=n),\n",
    "            'industry': np.random.choice(['electronics', 'beauty', 'retail', 'service'], size=n),\n",
    "             'salesperson': np.random.choice(['Anna', 'Charles', 'Edmore', 'Idah'], size=n),\n",
    "             'city': np.random.choice(['Harare', 'Bulawayo', 'Gweru'], size=n),\n",
    "             'price': np.random.randn(20) + 3 }"
   ]
  },
  {
   "cell_type": "code",
   "execution_count": 71,
   "id": "f4c27355",
   "metadata": {},
   "outputs": [
    {
     "data": {
      "text/html": [
       "<div>\n",
       "<style scoped>\n",
       "    .dataframe tbody tr th:only-of-type {\n",
       "        vertical-align: middle;\n",
       "    }\n",
       "\n",
       "    .dataframe tbody tr th {\n",
       "        vertical-align: top;\n",
       "    }\n",
       "\n",
       "    .dataframe thead th {\n",
       "        text-align: right;\n",
       "    }\n",
       "</style>\n",
       "<table border=\"1\" class=\"dataframe\">\n",
       "  <thead>\n",
       "    <tr style=\"text-align: right;\">\n",
       "      <th></th>\n",
       "      <th>product</th>\n",
       "      <th>company</th>\n",
       "      <th>industry</th>\n",
       "      <th>salesperson</th>\n",
       "      <th>city</th>\n",
       "      <th>price</th>\n",
       "    </tr>\n",
       "  </thead>\n",
       "  <tbody>\n",
       "    <tr>\n",
       "      <th>2022-05-25</th>\n",
       "      <td>bread</td>\n",
       "      <td>paul</td>\n",
       "      <td>service</td>\n",
       "      <td>Idah</td>\n",
       "      <td>Gweru</td>\n",
       "      <td>3.362275</td>\n",
       "    </tr>\n",
       "    <tr>\n",
       "      <th>2022-05-09</th>\n",
       "      <td>printing</td>\n",
       "      <td>bayley</td>\n",
       "      <td>beauty</td>\n",
       "      <td>Charles</td>\n",
       "      <td>Gweru</td>\n",
       "      <td>2.476113</td>\n",
       "    </tr>\n",
       "    <tr>\n",
       "      <th>2022-05-06</th>\n",
       "      <td>laptop</td>\n",
       "      <td>brilliant</td>\n",
       "      <td>electronics</td>\n",
       "      <td>Anna</td>\n",
       "      <td>Bulawayo</td>\n",
       "      <td>3.648064</td>\n",
       "    </tr>\n",
       "    <tr>\n",
       "      <th>2022-05-23</th>\n",
       "      <td>fuel</td>\n",
       "      <td>bayley</td>\n",
       "      <td>electronics</td>\n",
       "      <td>Charles</td>\n",
       "      <td>Gweru</td>\n",
       "      <td>3.406270</td>\n",
       "    </tr>\n",
       "    <tr>\n",
       "      <th>2022-05-23</th>\n",
       "      <td>bread</td>\n",
       "      <td>bayley</td>\n",
       "      <td>electronics</td>\n",
       "      <td>Anna</td>\n",
       "      <td>Gweru</td>\n",
       "      <td>4.132297</td>\n",
       "    </tr>\n",
       "    <tr>\n",
       "      <th>2022-05-16</th>\n",
       "      <td>camera</td>\n",
       "      <td>brilliant</td>\n",
       "      <td>electronics</td>\n",
       "      <td>Idah</td>\n",
       "      <td>Harare</td>\n",
       "      <td>2.630581</td>\n",
       "    </tr>\n",
       "    <tr>\n",
       "      <th>2022-05-16</th>\n",
       "      <td>hair_gel</td>\n",
       "      <td>tatenda</td>\n",
       "      <td>electronics</td>\n",
       "      <td>Charles</td>\n",
       "      <td>Harare</td>\n",
       "      <td>2.122755</td>\n",
       "    </tr>\n",
       "    <tr>\n",
       "      <th>2022-05-08</th>\n",
       "      <td>bread</td>\n",
       "      <td>tatenda</td>\n",
       "      <td>beauty</td>\n",
       "      <td>Edmore</td>\n",
       "      <td>Bulawayo</td>\n",
       "      <td>3.172209</td>\n",
       "    </tr>\n",
       "    <tr>\n",
       "      <th>2022-05-23</th>\n",
       "      <td>camera</td>\n",
       "      <td>tatenda</td>\n",
       "      <td>retail</td>\n",
       "      <td>Charles</td>\n",
       "      <td>Bulawayo</td>\n",
       "      <td>3.286928</td>\n",
       "    </tr>\n",
       "    <tr>\n",
       "      <th>2022-05-16</th>\n",
       "      <td>bread</td>\n",
       "      <td>brilliant</td>\n",
       "      <td>beauty</td>\n",
       "      <td>Anna</td>\n",
       "      <td>Gweru</td>\n",
       "      <td>4.142248</td>\n",
       "    </tr>\n",
       "    <tr>\n",
       "      <th>2022-05-12</th>\n",
       "      <td>printing</td>\n",
       "      <td>skyleh</td>\n",
       "      <td>service</td>\n",
       "      <td>Charles</td>\n",
       "      <td>Gweru</td>\n",
       "      <td>4.090701</td>\n",
       "    </tr>\n",
       "    <tr>\n",
       "      <th>2022-05-09</th>\n",
       "      <td>laptop</td>\n",
       "      <td>brilliant</td>\n",
       "      <td>retail</td>\n",
       "      <td>Anna</td>\n",
       "      <td>Bulawayo</td>\n",
       "      <td>2.039125</td>\n",
       "    </tr>\n",
       "    <tr>\n",
       "      <th>2022-05-16</th>\n",
       "      <td>laptop</td>\n",
       "      <td>bayley</td>\n",
       "      <td>retail</td>\n",
       "      <td>Anna</td>\n",
       "      <td>Gweru</td>\n",
       "      <td>2.858181</td>\n",
       "    </tr>\n",
       "    <tr>\n",
       "      <th>2022-05-31</th>\n",
       "      <td>fuel</td>\n",
       "      <td>paul</td>\n",
       "      <td>service</td>\n",
       "      <td>Anna</td>\n",
       "      <td>Harare</td>\n",
       "      <td>3.427568</td>\n",
       "    </tr>\n",
       "    <tr>\n",
       "      <th>2022-05-24</th>\n",
       "      <td>hair_gel</td>\n",
       "      <td>skyleh</td>\n",
       "      <td>beauty</td>\n",
       "      <td>Charles</td>\n",
       "      <td>Harare</td>\n",
       "      <td>2.076018</td>\n",
       "    </tr>\n",
       "    <tr>\n",
       "      <th>2022-06-02</th>\n",
       "      <td>fuel</td>\n",
       "      <td>brilliant</td>\n",
       "      <td>retail</td>\n",
       "      <td>Anna</td>\n",
       "      <td>Harare</td>\n",
       "      <td>2.915319</td>\n",
       "    </tr>\n",
       "    <tr>\n",
       "      <th>2022-05-15</th>\n",
       "      <td>hair_gel</td>\n",
       "      <td>bayley</td>\n",
       "      <td>service</td>\n",
       "      <td>Idah</td>\n",
       "      <td>Harare</td>\n",
       "      <td>2.741518</td>\n",
       "    </tr>\n",
       "    <tr>\n",
       "      <th>2022-05-19</th>\n",
       "      <td>printing</td>\n",
       "      <td>tatenda</td>\n",
       "      <td>electronics</td>\n",
       "      <td>Idah</td>\n",
       "      <td>Gweru</td>\n",
       "      <td>4.088928</td>\n",
       "    </tr>\n",
       "    <tr>\n",
       "      <th>2022-05-29</th>\n",
       "      <td>printing</td>\n",
       "      <td>skyleh</td>\n",
       "      <td>retail</td>\n",
       "      <td>Anna</td>\n",
       "      <td>Bulawayo</td>\n",
       "      <td>3.386387</td>\n",
       "    </tr>\n",
       "    <tr>\n",
       "      <th>2022-05-10</th>\n",
       "      <td>printing</td>\n",
       "      <td>brilliant</td>\n",
       "      <td>beauty</td>\n",
       "      <td>Edmore</td>\n",
       "      <td>Bulawayo</td>\n",
       "      <td>2.008434</td>\n",
       "    </tr>\n",
       "  </tbody>\n",
       "</table>\n",
       "</div>"
      ],
      "text/plain": [
       "             product    company     industry salesperson      city     price\n",
       "2022-05-25     bread       paul      service        Idah     Gweru  3.362275\n",
       "2022-05-09  printing     bayley       beauty     Charles     Gweru  2.476113\n",
       "2022-05-06    laptop  brilliant  electronics        Anna  Bulawayo  3.648064\n",
       "2022-05-23      fuel     bayley  electronics     Charles     Gweru  3.406270\n",
       "2022-05-23     bread     bayley  electronics        Anna     Gweru  4.132297\n",
       "2022-05-16    camera  brilliant  electronics        Idah    Harare  2.630581\n",
       "2022-05-16  hair_gel    tatenda  electronics     Charles    Harare  2.122755\n",
       "2022-05-08     bread    tatenda       beauty      Edmore  Bulawayo  3.172209\n",
       "2022-05-23    camera    tatenda       retail     Charles  Bulawayo  3.286928\n",
       "2022-05-16     bread  brilliant       beauty        Anna     Gweru  4.142248\n",
       "2022-05-12  printing     skyleh      service     Charles     Gweru  4.090701\n",
       "2022-05-09    laptop  brilliant       retail        Anna  Bulawayo  2.039125\n",
       "2022-05-16    laptop     bayley       retail        Anna     Gweru  2.858181\n",
       "2022-05-31      fuel       paul      service        Anna    Harare  3.427568\n",
       "2022-05-24  hair_gel     skyleh       beauty     Charles    Harare  2.076018\n",
       "2022-06-02      fuel  brilliant       retail        Anna    Harare  2.915319\n",
       "2022-05-15  hair_gel     bayley      service        Idah    Harare  2.741518\n",
       "2022-05-19  printing    tatenda  electronics        Idah     Gweru  4.088928\n",
       "2022-05-29  printing     skyleh       retail        Anna  Bulawayo  3.386387\n",
       "2022-05-10  printing  brilliant       beauty      Edmore  Bulawayo  2.008434"
      ]
     },
     "execution_count": 71,
     "metadata": {},
     "output_type": "execute_result"
    }
   ],
   "source": [
    "dff = pd.DataFrame(variables, index=dates, columns=['product', 'company', 'industry', 'salesperson', 'city', 'price'])\n",
    "dff"
   ]
  },
  {
   "cell_type": "code",
   "execution_count": 73,
   "id": "13dd52df",
   "metadata": {},
   "outputs": [
    {
     "data": {
      "text/html": [
       "<div>\n",
       "<style scoped>\n",
       "    .dataframe tbody tr th:only-of-type {\n",
       "        vertical-align: middle;\n",
       "    }\n",
       "\n",
       "    .dataframe tbody tr th {\n",
       "        vertical-align: top;\n",
       "    }\n",
       "\n",
       "    .dataframe thead th {\n",
       "        text-align: right;\n",
       "    }\n",
       "</style>\n",
       "<table border=\"1\" class=\"dataframe\">\n",
       "  <thead>\n",
       "    <tr style=\"text-align: right;\">\n",
       "      <th></th>\n",
       "      <th>product</th>\n",
       "      <th>company</th>\n",
       "      <th>industry</th>\n",
       "      <th>salesperson</th>\n",
       "      <th>city</th>\n",
       "      <th>price</th>\n",
       "    </tr>\n",
       "  </thead>\n",
       "  <tbody>\n",
       "    <tr>\n",
       "      <th>2022-05-06</th>\n",
       "      <td>laptop</td>\n",
       "      <td>brilliant</td>\n",
       "      <td>electronics</td>\n",
       "      <td>Anna</td>\n",
       "      <td>Bulawayo</td>\n",
       "      <td>3.648064</td>\n",
       "    </tr>\n",
       "    <tr>\n",
       "      <th>2022-05-08</th>\n",
       "      <td>bread</td>\n",
       "      <td>tatenda</td>\n",
       "      <td>beauty</td>\n",
       "      <td>Edmore</td>\n",
       "      <td>Bulawayo</td>\n",
       "      <td>3.172209</td>\n",
       "    </tr>\n",
       "    <tr>\n",
       "      <th>2022-05-09</th>\n",
       "      <td>printing</td>\n",
       "      <td>bayley</td>\n",
       "      <td>beauty</td>\n",
       "      <td>Charles</td>\n",
       "      <td>Gweru</td>\n",
       "      <td>2.476113</td>\n",
       "    </tr>\n",
       "    <tr>\n",
       "      <th>2022-05-09</th>\n",
       "      <td>laptop</td>\n",
       "      <td>brilliant</td>\n",
       "      <td>retail</td>\n",
       "      <td>Anna</td>\n",
       "      <td>Bulawayo</td>\n",
       "      <td>2.039125</td>\n",
       "    </tr>\n",
       "    <tr>\n",
       "      <th>2022-05-10</th>\n",
       "      <td>printing</td>\n",
       "      <td>brilliant</td>\n",
       "      <td>beauty</td>\n",
       "      <td>Edmore</td>\n",
       "      <td>Bulawayo</td>\n",
       "      <td>2.008434</td>\n",
       "    </tr>\n",
       "    <tr>\n",
       "      <th>2022-05-12</th>\n",
       "      <td>printing</td>\n",
       "      <td>skyleh</td>\n",
       "      <td>service</td>\n",
       "      <td>Charles</td>\n",
       "      <td>Gweru</td>\n",
       "      <td>4.090701</td>\n",
       "    </tr>\n",
       "    <tr>\n",
       "      <th>2022-05-15</th>\n",
       "      <td>hair_gel</td>\n",
       "      <td>bayley</td>\n",
       "      <td>service</td>\n",
       "      <td>Idah</td>\n",
       "      <td>Harare</td>\n",
       "      <td>2.741518</td>\n",
       "    </tr>\n",
       "    <tr>\n",
       "      <th>2022-05-16</th>\n",
       "      <td>laptop</td>\n",
       "      <td>bayley</td>\n",
       "      <td>retail</td>\n",
       "      <td>Anna</td>\n",
       "      <td>Gweru</td>\n",
       "      <td>2.858181</td>\n",
       "    </tr>\n",
       "    <tr>\n",
       "      <th>2022-05-16</th>\n",
       "      <td>bread</td>\n",
       "      <td>brilliant</td>\n",
       "      <td>beauty</td>\n",
       "      <td>Anna</td>\n",
       "      <td>Gweru</td>\n",
       "      <td>4.142248</td>\n",
       "    </tr>\n",
       "    <tr>\n",
       "      <th>2022-05-16</th>\n",
       "      <td>hair_gel</td>\n",
       "      <td>tatenda</td>\n",
       "      <td>electronics</td>\n",
       "      <td>Charles</td>\n",
       "      <td>Harare</td>\n",
       "      <td>2.122755</td>\n",
       "    </tr>\n",
       "    <tr>\n",
       "      <th>2022-05-16</th>\n",
       "      <td>camera</td>\n",
       "      <td>brilliant</td>\n",
       "      <td>electronics</td>\n",
       "      <td>Idah</td>\n",
       "      <td>Harare</td>\n",
       "      <td>2.630581</td>\n",
       "    </tr>\n",
       "    <tr>\n",
       "      <th>2022-05-19</th>\n",
       "      <td>printing</td>\n",
       "      <td>tatenda</td>\n",
       "      <td>electronics</td>\n",
       "      <td>Idah</td>\n",
       "      <td>Gweru</td>\n",
       "      <td>4.088928</td>\n",
       "    </tr>\n",
       "    <tr>\n",
       "      <th>2022-05-23</th>\n",
       "      <td>bread</td>\n",
       "      <td>bayley</td>\n",
       "      <td>electronics</td>\n",
       "      <td>Anna</td>\n",
       "      <td>Gweru</td>\n",
       "      <td>4.132297</td>\n",
       "    </tr>\n",
       "    <tr>\n",
       "      <th>2022-05-23</th>\n",
       "      <td>fuel</td>\n",
       "      <td>bayley</td>\n",
       "      <td>electronics</td>\n",
       "      <td>Charles</td>\n",
       "      <td>Gweru</td>\n",
       "      <td>3.406270</td>\n",
       "    </tr>\n",
       "    <tr>\n",
       "      <th>2022-05-23</th>\n",
       "      <td>camera</td>\n",
       "      <td>tatenda</td>\n",
       "      <td>retail</td>\n",
       "      <td>Charles</td>\n",
       "      <td>Bulawayo</td>\n",
       "      <td>3.286928</td>\n",
       "    </tr>\n",
       "    <tr>\n",
       "      <th>2022-05-24</th>\n",
       "      <td>hair_gel</td>\n",
       "      <td>skyleh</td>\n",
       "      <td>beauty</td>\n",
       "      <td>Charles</td>\n",
       "      <td>Harare</td>\n",
       "      <td>2.076018</td>\n",
       "    </tr>\n",
       "    <tr>\n",
       "      <th>2022-05-25</th>\n",
       "      <td>bread</td>\n",
       "      <td>paul</td>\n",
       "      <td>service</td>\n",
       "      <td>Idah</td>\n",
       "      <td>Gweru</td>\n",
       "      <td>3.362275</td>\n",
       "    </tr>\n",
       "    <tr>\n",
       "      <th>2022-05-29</th>\n",
       "      <td>printing</td>\n",
       "      <td>skyleh</td>\n",
       "      <td>retail</td>\n",
       "      <td>Anna</td>\n",
       "      <td>Bulawayo</td>\n",
       "      <td>3.386387</td>\n",
       "    </tr>\n",
       "    <tr>\n",
       "      <th>2022-05-31</th>\n",
       "      <td>fuel</td>\n",
       "      <td>paul</td>\n",
       "      <td>service</td>\n",
       "      <td>Anna</td>\n",
       "      <td>Harare</td>\n",
       "      <td>3.427568</td>\n",
       "    </tr>\n",
       "    <tr>\n",
       "      <th>2022-06-02</th>\n",
       "      <td>fuel</td>\n",
       "      <td>brilliant</td>\n",
       "      <td>retail</td>\n",
       "      <td>Anna</td>\n",
       "      <td>Harare</td>\n",
       "      <td>2.915319</td>\n",
       "    </tr>\n",
       "  </tbody>\n",
       "</table>\n",
       "</div>"
      ],
      "text/plain": [
       "             product    company     industry salesperson      city     price\n",
       "2022-05-06    laptop  brilliant  electronics        Anna  Bulawayo  3.648064\n",
       "2022-05-08     bread    tatenda       beauty      Edmore  Bulawayo  3.172209\n",
       "2022-05-09  printing     bayley       beauty     Charles     Gweru  2.476113\n",
       "2022-05-09    laptop  brilliant       retail        Anna  Bulawayo  2.039125\n",
       "2022-05-10  printing  brilliant       beauty      Edmore  Bulawayo  2.008434\n",
       "2022-05-12  printing     skyleh      service     Charles     Gweru  4.090701\n",
       "2022-05-15  hair_gel     bayley      service        Idah    Harare  2.741518\n",
       "2022-05-16    laptop     bayley       retail        Anna     Gweru  2.858181\n",
       "2022-05-16     bread  brilliant       beauty        Anna     Gweru  4.142248\n",
       "2022-05-16  hair_gel    tatenda  electronics     Charles    Harare  2.122755\n",
       "2022-05-16    camera  brilliant  electronics        Idah    Harare  2.630581\n",
       "2022-05-19  printing    tatenda  electronics        Idah     Gweru  4.088928\n",
       "2022-05-23     bread     bayley  electronics        Anna     Gweru  4.132297\n",
       "2022-05-23      fuel     bayley  electronics     Charles     Gweru  3.406270\n",
       "2022-05-23    camera    tatenda       retail     Charles  Bulawayo  3.286928\n",
       "2022-05-24  hair_gel     skyleh       beauty     Charles    Harare  2.076018\n",
       "2022-05-25     bread       paul      service        Idah     Gweru  3.362275\n",
       "2022-05-29  printing     skyleh       retail        Anna  Bulawayo  3.386387\n",
       "2022-05-31      fuel       paul      service        Anna    Harare  3.427568\n",
       "2022-06-02      fuel  brilliant       retail        Anna    Harare  2.915319"
      ]
     },
     "execution_count": 73,
     "metadata": {},
     "output_type": "execute_result"
    }
   ],
   "source": [
    "dff.sort_index()"
   ]
  },
  {
   "cell_type": "code",
   "execution_count": 75,
   "id": "426f2460",
   "metadata": {},
   "outputs": [
    {
     "data": {
      "text/plain": [
       "product   salesperson\n",
       "bread     Anna           8.274545\n",
       "          Edmore         3.172209\n",
       "          Idah           3.362275\n",
       "camera    Charles        3.286928\n",
       "          Idah           2.630581\n",
       "fuel      Anna           6.342887\n",
       "          Charles        3.406270\n",
       "hair_gel  Charles        4.198773\n",
       "          Idah           2.741518\n",
       "laptop    Anna           8.545370\n",
       "printing  Anna           3.386387\n",
       "          Charles        6.566814\n",
       "          Edmore         2.008434\n",
       "          Idah           4.088928\n",
       "Name: price, dtype: float64"
      ]
     },
     "execution_count": 75,
     "metadata": {},
     "output_type": "execute_result"
    }
   ],
   "source": [
    "dff.groupby(['product', 'salesperson']).price.sum()"
   ]
  },
  {
   "cell_type": "code",
   "execution_count": 76,
   "id": "f32712ab",
   "metadata": {},
   "outputs": [
    {
     "data": {
      "text/html": [
       "<div>\n",
       "<style scoped>\n",
       "    .dataframe tbody tr th:only-of-type {\n",
       "        vertical-align: middle;\n",
       "    }\n",
       "\n",
       "    .dataframe tbody tr th {\n",
       "        vertical-align: top;\n",
       "    }\n",
       "\n",
       "    .dataframe thead th {\n",
       "        text-align: right;\n",
       "    }\n",
       "</style>\n",
       "<table border=\"1\" class=\"dataframe\">\n",
       "  <thead>\n",
       "    <tr style=\"text-align: right;\">\n",
       "      <th></th>\n",
       "      <th>A</th>\n",
       "      <th>B</th>\n",
       "      <th>C</th>\n",
       "      <th>D</th>\n",
       "    </tr>\n",
       "  </thead>\n",
       "  <tbody>\n",
       "    <tr>\n",
       "      <th>2023-01-01</th>\n",
       "      <td>-0.275716</td>\n",
       "      <td>1.281337</td>\n",
       "      <td>-1.626059</td>\n",
       "      <td>-0.342007</td>\n",
       "    </tr>\n",
       "    <tr>\n",
       "      <th>2023-01-02</th>\n",
       "      <td>0.538574</td>\n",
       "      <td>0.062321</td>\n",
       "      <td>-1.142963</td>\n",
       "      <td>0.687714</td>\n",
       "    </tr>\n",
       "    <tr>\n",
       "      <th>2023-01-03</th>\n",
       "      <td>3.252529</td>\n",
       "      <td>-1.243151</td>\n",
       "      <td>0.576522</td>\n",
       "      <td>0.752074</td>\n",
       "    </tr>\n",
       "    <tr>\n",
       "      <th>2023-01-04</th>\n",
       "      <td>0.200502</td>\n",
       "      <td>0.066754</td>\n",
       "      <td>-0.194084</td>\n",
       "      <td>0.936919</td>\n",
       "    </tr>\n",
       "    <tr>\n",
       "      <th>2023-01-05</th>\n",
       "      <td>-0.051740</td>\n",
       "      <td>1.539505</td>\n",
       "      <td>1.063805</td>\n",
       "      <td>0.113250</td>\n",
       "    </tr>\n",
       "    <tr>\n",
       "      <th>2023-01-06</th>\n",
       "      <td>1.266830</td>\n",
       "      <td>0.577360</td>\n",
       "      <td>-0.820588</td>\n",
       "      <td>-0.850736</td>\n",
       "    </tr>\n",
       "    <tr>\n",
       "      <th>2023-01-07</th>\n",
       "      <td>-1.014024</td>\n",
       "      <td>-0.262142</td>\n",
       "      <td>0.959032</td>\n",
       "      <td>0.692985</td>\n",
       "    </tr>\n",
       "    <tr>\n",
       "      <th>2023-01-08</th>\n",
       "      <td>0.549139</td>\n",
       "      <td>-1.020330</td>\n",
       "      <td>-0.185078</td>\n",
       "      <td>0.131827</td>\n",
       "    </tr>\n",
       "    <tr>\n",
       "      <th>2023-01-09</th>\n",
       "      <td>0.795074</td>\n",
       "      <td>0.583225</td>\n",
       "      <td>-0.412308</td>\n",
       "      <td>-0.529318</td>\n",
       "    </tr>\n",
       "    <tr>\n",
       "      <th>2023-01-10</th>\n",
       "      <td>0.159926</td>\n",
       "      <td>-0.938423</td>\n",
       "      <td>-0.164951</td>\n",
       "      <td>0.943514</td>\n",
       "    </tr>\n",
       "  </tbody>\n",
       "</table>\n",
       "</div>"
      ],
      "text/plain": [
       "                   A         B         C         D\n",
       "2023-01-01 -0.275716  1.281337 -1.626059 -0.342007\n",
       "2023-01-02  0.538574  0.062321 -1.142963  0.687714\n",
       "2023-01-03  3.252529 -1.243151  0.576522  0.752074\n",
       "2023-01-04  0.200502  0.066754 -0.194084  0.936919\n",
       "2023-01-05 -0.051740  1.539505  1.063805  0.113250\n",
       "2023-01-06  1.266830  0.577360 -0.820588 -0.850736\n",
       "2023-01-07 -1.014024 -0.262142  0.959032  0.692985\n",
       "2023-01-08  0.549139 -1.020330 -0.185078  0.131827\n",
       "2023-01-09  0.795074  0.583225 -0.412308 -0.529318\n",
       "2023-01-10  0.159926 -0.938423 -0.164951  0.943514"
      ]
     },
     "execution_count": 76,
     "metadata": {},
     "output_type": "execute_result"
    }
   ],
   "source": [
    "df"
   ]
  },
  {
   "cell_type": "code",
   "execution_count": 82,
   "id": "79d6a307",
   "metadata": {},
   "outputs": [],
   "source": [
    "df.query?"
   ]
  },
  {
   "cell_type": "code",
   "execution_count": 84,
   "id": "e0e50919",
   "metadata": {},
   "outputs": [
    {
     "data": {
      "text/html": [
       "<div>\n",
       "<style scoped>\n",
       "    .dataframe tbody tr th:only-of-type {\n",
       "        vertical-align: middle;\n",
       "    }\n",
       "\n",
       "    .dataframe tbody tr th {\n",
       "        vertical-align: top;\n",
       "    }\n",
       "\n",
       "    .dataframe thead th {\n",
       "        text-align: right;\n",
       "    }\n",
       "</style>\n",
       "<table border=\"1\" class=\"dataframe\">\n",
       "  <thead>\n",
       "    <tr style=\"text-align: right;\">\n",
       "      <th></th>\n",
       "      <th>A</th>\n",
       "      <th>B</th>\n",
       "      <th>C</th>\n",
       "      <th>D</th>\n",
       "    </tr>\n",
       "  </thead>\n",
       "  <tbody>\n",
       "    <tr>\n",
       "      <th>2023-01-02</th>\n",
       "      <td>0.538574</td>\n",
       "      <td>0.062321</td>\n",
       "      <td>-1.142963</td>\n",
       "      <td>0.687714</td>\n",
       "    </tr>\n",
       "    <tr>\n",
       "      <th>2023-01-03</th>\n",
       "      <td>3.252529</td>\n",
       "      <td>-1.243151</td>\n",
       "      <td>0.576522</td>\n",
       "      <td>0.752074</td>\n",
       "    </tr>\n",
       "    <tr>\n",
       "      <th>2023-01-04</th>\n",
       "      <td>0.200502</td>\n",
       "      <td>0.066754</td>\n",
       "      <td>-0.194084</td>\n",
       "      <td>0.936919</td>\n",
       "    </tr>\n",
       "    <tr>\n",
       "      <th>2023-01-06</th>\n",
       "      <td>1.266830</td>\n",
       "      <td>0.577360</td>\n",
       "      <td>-0.820588</td>\n",
       "      <td>-0.850736</td>\n",
       "    </tr>\n",
       "    <tr>\n",
       "      <th>2023-01-08</th>\n",
       "      <td>0.549139</td>\n",
       "      <td>-1.020330</td>\n",
       "      <td>-0.185078</td>\n",
       "      <td>0.131827</td>\n",
       "    </tr>\n",
       "    <tr>\n",
       "      <th>2023-01-09</th>\n",
       "      <td>0.795074</td>\n",
       "      <td>0.583225</td>\n",
       "      <td>-0.412308</td>\n",
       "      <td>-0.529318</td>\n",
       "    </tr>\n",
       "    <tr>\n",
       "      <th>2023-01-10</th>\n",
       "      <td>0.159926</td>\n",
       "      <td>-0.938423</td>\n",
       "      <td>-0.164951</td>\n",
       "      <td>0.943514</td>\n",
       "    </tr>\n",
       "  </tbody>\n",
       "</table>\n",
       "</div>"
      ],
      "text/plain": [
       "                   A         B         C         D\n",
       "2023-01-02  0.538574  0.062321 -1.142963  0.687714\n",
       "2023-01-03  3.252529 -1.243151  0.576522  0.752074\n",
       "2023-01-04  0.200502  0.066754 -0.194084  0.936919\n",
       "2023-01-06  1.266830  0.577360 -0.820588 -0.850736\n",
       "2023-01-08  0.549139 -1.020330 -0.185078  0.131827\n",
       "2023-01-09  0.795074  0.583225 -0.412308 -0.529318\n",
       "2023-01-10  0.159926 -0.938423 -0.164951  0.943514"
      ]
     },
     "execution_count": 84,
     "metadata": {},
     "output_type": "execute_result"
    }
   ],
   "source": [
    "df.query('A > B')"
   ]
  },
  {
   "cell_type": "code",
   "execution_count": 85,
   "id": "dd920105",
   "metadata": {},
   "outputs": [
    {
     "data": {
      "text/html": [
       "<div>\n",
       "<style scoped>\n",
       "    .dataframe tbody tr th:only-of-type {\n",
       "        vertical-align: middle;\n",
       "    }\n",
       "\n",
       "    .dataframe tbody tr th {\n",
       "        vertical-align: top;\n",
       "    }\n",
       "\n",
       "    .dataframe thead th {\n",
       "        text-align: right;\n",
       "    }\n",
       "</style>\n",
       "<table border=\"1\" class=\"dataframe\">\n",
       "  <thead>\n",
       "    <tr style=\"text-align: right;\">\n",
       "      <th></th>\n",
       "      <th>col</th>\n",
       "      <th>A</th>\n",
       "      <th>B</th>\n",
       "    </tr>\n",
       "  </thead>\n",
       "  <tbody>\n",
       "    <tr>\n",
       "      <th>0</th>\n",
       "      <td>A</td>\n",
       "      <td>80.0</td>\n",
       "      <td>80</td>\n",
       "    </tr>\n",
       "    <tr>\n",
       "      <th>1</th>\n",
       "      <td>A</td>\n",
       "      <td>23.0</td>\n",
       "      <td>55</td>\n",
       "    </tr>\n",
       "    <tr>\n",
       "      <th>2</th>\n",
       "      <td>B</td>\n",
       "      <td>NaN</td>\n",
       "      <td>76</td>\n",
       "    </tr>\n",
       "    <tr>\n",
       "      <th>3</th>\n",
       "      <td>B</td>\n",
       "      <td>22.0</td>\n",
       "      <td>67</td>\n",
       "    </tr>\n",
       "  </tbody>\n",
       "</table>\n",
       "</div>"
      ],
      "text/plain": [
       "  col     A   B\n",
       "0   A  80.0  80\n",
       "1   A  23.0  55\n",
       "2   B   NaN  76\n",
       "3   B  22.0  67"
      ]
     },
     "execution_count": 85,
     "metadata": {},
     "output_type": "execute_result"
    }
   ],
   "source": [
    "dffg = pd.DataFrame({'col': [\"A\", \"A\", \"B\", \"B\"],\n",
    "                     'A': [80, 23, np.nan, 22],\n",
    "                     'B': [80, 55, 76, 67]})\n",
    "dffg"
   ]
  },
  {
   "cell_type": "code",
   "execution_count": 86,
   "id": "ebe8c095",
   "metadata": {},
   "outputs": [],
   "source": [
    "idx, cols = pd.factorize(dffg['col'])"
   ]
  },
  {
   "cell_type": "code",
   "execution_count": 89,
   "id": "54807b30",
   "metadata": {},
   "outputs": [
    {
     "data": {
      "text/plain": [
       "(array([0, 0, 1, 1]), Index(['A', 'B'], dtype='object'))"
      ]
     },
     "execution_count": 89,
     "metadata": {},
     "output_type": "execute_result"
    }
   ],
   "source": [
    "idx, cols"
   ]
  },
  {
   "cell_type": "code",
   "execution_count": 88,
   "id": "c2608ddc",
   "metadata": {},
   "outputs": [
    {
     "data": {
      "text/plain": [
       "Index(['A', 'B'], dtype='object')"
      ]
     },
     "execution_count": 88,
     "metadata": {},
     "output_type": "execute_result"
    }
   ],
   "source": [
    "cols"
   ]
  },
  {
   "cell_type": "code",
   "execution_count": 90,
   "id": "a7afb9c9",
   "metadata": {},
   "outputs": [
    {
     "data": {
      "text/plain": [
       "array([80., 23., 76., 67.])"
      ]
     },
     "execution_count": 90,
     "metadata": {},
     "output_type": "execute_result"
    }
   ],
   "source": [
    "dffg.reindex(cols, axis=1).to_numpy()[np.arange(len(dffg)), idx]"
   ]
  },
  {
   "cell_type": "code",
   "execution_count": 91,
   "id": "1b56683a",
   "metadata": {},
   "outputs": [
    {
     "data": {
      "text/html": [
       "<div>\n",
       "<style scoped>\n",
       "    .dataframe tbody tr th:only-of-type {\n",
       "        vertical-align: middle;\n",
       "    }\n",
       "\n",
       "    .dataframe tbody tr th {\n",
       "        vertical-align: top;\n",
       "    }\n",
       "\n",
       "    .dataframe thead th {\n",
       "        text-align: right;\n",
       "    }\n",
       "</style>\n",
       "<table border=\"1\" class=\"dataframe\">\n",
       "  <thead>\n",
       "    <tr style=\"text-align: right;\">\n",
       "      <th></th>\n",
       "      <th>col</th>\n",
       "      <th>A</th>\n",
       "      <th>B</th>\n",
       "    </tr>\n",
       "  </thead>\n",
       "  <tbody>\n",
       "    <tr>\n",
       "      <th>0</th>\n",
       "      <td>A</td>\n",
       "      <td>80.0</td>\n",
       "      <td>80</td>\n",
       "    </tr>\n",
       "    <tr>\n",
       "      <th>1</th>\n",
       "      <td>A</td>\n",
       "      <td>23.0</td>\n",
       "      <td>55</td>\n",
       "    </tr>\n",
       "    <tr>\n",
       "      <th>2</th>\n",
       "      <td>B</td>\n",
       "      <td>NaN</td>\n",
       "      <td>76</td>\n",
       "    </tr>\n",
       "    <tr>\n",
       "      <th>3</th>\n",
       "      <td>B</td>\n",
       "      <td>22.0</td>\n",
       "      <td>67</td>\n",
       "    </tr>\n",
       "  </tbody>\n",
       "</table>\n",
       "</div>"
      ],
      "text/plain": [
       "  col     A   B\n",
       "0   A  80.0  80\n",
       "1   A  23.0  55\n",
       "2   B   NaN  76\n",
       "3   B  22.0  67"
      ]
     },
     "execution_count": 91,
     "metadata": {},
     "output_type": "execute_result"
    }
   ],
   "source": [
    "dffg"
   ]
  },
  {
   "cell_type": "code",
   "execution_count": null,
   "id": "675784a8",
   "metadata": {},
   "outputs": [],
   "source": []
  }
 ],
 "metadata": {
  "kernelspec": {
   "display_name": "Python 3 (ipykernel)",
   "language": "python",
   "name": "python3"
  },
  "language_info": {
   "codemirror_mode": {
    "name": "ipython",
    "version": 3
   },
   "file_extension": ".py",
   "mimetype": "text/x-python",
   "name": "python",
   "nbconvert_exporter": "python",
   "pygments_lexer": "ipython3",
   "version": "3.10.8"
  }
 },
 "nbformat": 4,
 "nbformat_minor": 5
}
